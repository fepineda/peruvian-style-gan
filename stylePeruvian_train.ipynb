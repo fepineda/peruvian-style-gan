{
  "nbformat": 4,
  "nbformat_minor": 0,
  "metadata": {
    "colab": {
      "name": "stylePeruvian.ipynb",
      "provenance": []
    },
    "kernelspec": {
      "name": "python3",
      "display_name": "Python 3"
    },
    "accelerator": "GPU"
  },
  "cells": [
    {
      "cell_type": "markdown",
      "metadata": {
        "id": "QmzLOO69hpYm",
        "colab_type": "text"
      },
      "source": [
        "##Entrenamiento del modelo usando Google Colab\n",
        "Se creó este Notebook con el fin de poder ejecutar los archivos .py usando los GPUs de Google.  \n",
        "Para ello, se debe subir todo el proyecto de Github a Google Drive."
      ]
    },
    {
      "cell_type": "code",
      "metadata": {
        "id": "sN2zSyiWUNJJ",
        "colab_type": "code",
        "outputId": "b69d0dec-9007-4c5b-e70e-b0f036765dba",
        "colab": {
          "base_uri": "https://localhost:8080/",
          "height": 129
        }
      },
      "source": [
        "#Se monta el Google Drive\n",
        "from google.colab import drive\n",
        "drive.mount('/content/drive')"
      ],
      "execution_count": 1,
      "outputs": [
        {
          "output_type": "stream",
          "text": [
            "Go to this URL in a browser: https://accounts.google.com/o/oauth2/auth?client_id=947318989803-6bn6qk8qdgf4n4g3pfee6491hc0brc4i.apps.googleusercontent.com&redirect_uri=urn%3Aietf%3Awg%3Aoauth%3A2.0%3Aoob&scope=email%20https%3A%2F%2Fwww.googleapis.com%2Fauth%2Fdocs.test%20https%3A%2F%2Fwww.googleapis.com%2Fauth%2Fdrive%20https%3A%2F%2Fwww.googleapis.com%2Fauth%2Fdrive.photos.readonly%20https%3A%2F%2Fwww.googleapis.com%2Fauth%2Fpeopleapi.readonly&response_type=code\n",
            "\n",
            "Enter your authorization code:\n",
            "··········\n",
            "Mounted at /content/drive\n"
          ],
          "name": "stdout"
        }
      ]
    },
    {
      "cell_type": "code",
      "metadata": {
        "id": "Z-2ucqjiUSPc",
        "colab_type": "code", 
        "outputId": "861370ad-e18c-4609-8381-29a3ab4ab5d3",
        "colab": {
          "base_uri": "https://localhost:8080/",
          "height": 35
        }
      },
      "source": [
        "#Nos ubicamos en la carpeta donde se subio el proyecto de Github\n",
        "cd /content/drive/My Drive/PUCP - Maestría/Técnicas avanzadas de Data Mining y Sistemas Inteligentes"
      ],
      "execution_count": 2,
      "outputs": [
        {
          "output_type": "stream",
          "text": [
            "/content/drive/My Drive/PUCP - Maestría/Técnicas avanzadas de Data Mining y Sistemas Inteligentes\n"
          ],
          "name": "stdout"
        }
      ]
    },
    {
      "cell_type": "code",
      "metadata": {
        "id": "kN6FIAtBUY7x",
        "colab_type": "code",
        "outputId": "7f98a54b-b366-409b-cdca-446c16a00f30",
        "colab": {
          "base_uri": "https://localhost:8080/",
          "height": 35
        }
      },
      "source": [
        "#Verificamos que los archivos preprocesados previamente se encuentren en la carpeta adecuado\n",
        "!ls \"./proyecto_irvin/peruvian_mix_process\""
      ],
      "execution_count": 0,
      "outputs": [
        {
          "output_type": "stream",
          "text": [
            "data.mdb  lock.mdb\n"
          ],
          "name": "stdout"
        }
      ]
    },
    {
      "cell_type": "code",
      "metadata": {
        "id": "nEbUx3wFZejp",
        "colab_type": "code",
        "outputId": "c56c7b04-d4ed-408a-bea6-6c22f00de13f",
        "colab": {
          "base_uri": "https://localhost:8080/",
          "height": 90
        }
      },
      "source": [
        "#Verificamos la ruta del codigo\n", 
        "!ls \"./proyecto_irvin/style_master\""
      ],
      "execution_count": 3,
      "outputs": [
        {
          "output_type": "stream",
          "text": [
            "checkpoint\t\t      generate.py      __pycache__    train.py\n",
            "dataset.py\t\t      LICENSE\t       README.md\n",
            "doc\t\t\t      model.py\t       sample\n",
            "generate_checkpoint_100mb.py  prepare_data.py  sample_matrix\n"
          ],
          "name": "stdout"
        }
      ]
    },
    {
      "cell_type": "code",
      "metadata": {
        "id": "P0BmQ4IqZjKL",
        "colab_type": "code",
        "outputId": "567b9792-c545-440f-b115-580bec040d09",
        "colab": {
          "base_uri": "https://localhost:8080/",
          "height": 46
        }
      },
      "source": [
        "# Ejecutar el entrenamiento imagenes 64px\n",
        "!python \"./proyecto_irvin/style_master/train.py\" \"./proyecto/peruvian_mix_process\" --init_size 64 --max_size 64"
      ],
      "execution_count": 0,
      "outputs": [
        {
          "output_type": "stream",
          "text": [
            "Size: 64; G: 5.945; D: 8.053; Grad: 1.710; Alpha: 1.00000:   8% 7699/100000 [11:28:03<136:43:30,  5.33s/it]"
          ],
          "name": "stdout"
        }
      ]
    }
  ]
}
