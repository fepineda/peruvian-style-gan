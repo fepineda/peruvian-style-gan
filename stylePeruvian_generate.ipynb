{
  "nbformat": 4,
  "nbformat_minor": 0,
  "metadata": {
    "colab": {
      "name": "stylePeruvian_pretrained.ipynb",
      "provenance": []
    },
    "kernelspec": {
      "name": "python3",
      "display_name": "Python 3"
    },
    "accelerator": "GPU"
  },
  "cells": [
    {
      "cell_type": "markdown",
      "metadata": {
        "id": "iABSELj-sBuu",
        "colab_type": "text"
      },
      "source": [
        "##Generación de imágenes usando el modelo en Google Colab\n",
        "Se creó este Notebook con el fin de poder ejecutar los archivos .py usando los GPUs de Google.  \n",
        "Para ello, se debe subir todo el proyecto de Github a Google Drive."
      ]
    },
    {
      "cell_type": "code",
      "metadata": {
        "id": "sN2zSyiWUNJJ",
        "colab_type": "code",
        "outputId": "86e6fd02-e45b-47fd-fa02-e16aa4289da5",
        "colab": {
          "base_uri": "https://localhost:8080/",
          "height": 129
        }
      },
      "source": [
        "#Se monta el Google Drive\n",
        "from google.colab import drive\n",
        "drive.mount('/content/drive')"
      ],
      "execution_count": 1,
      "outputs": [
        {
          "output_type": "stream",
          "text": [
            "Go to this URL in a browser: https://accounts.google.com/o/oauth2/auth?client_id=947318989803-6bn6qk8qdgf4n4g3pfee6491hc0brc4i.apps.googleusercontent.com&redirect_uri=urn%3Aietf%3Awg%3Aoauth%3A2.0%3Aoob&scope=email%20https%3A%2F%2Fwww.googleapis.com%2Fauth%2Fdocs.test%20https%3A%2F%2Fwww.googleapis.com%2Fauth%2Fdrive%20https%3A%2F%2Fwww.googleapis.com%2Fauth%2Fdrive.photos.readonly%20https%3A%2F%2Fwww.googleapis.com%2Fauth%2Fpeopleapi.readonly&response_type=code\n",
            "\n",
            "Enter your authorization code:\n",
            "··········\n",
            "Mounted at /content/drive\n"
          ],
          "name": "stdout"
        }
      ]
    },
    {
      "cell_type": "code",
      "metadata": {
        "id": "Z-2ucqjiUSPc",
        "colab_type": "code",
        "outputId": "a4c30b1f-8e6b-4484-9a16-092eb5029fe2",
        "colab": {
          "base_uri": "https://localhost:8080/",
          "height": 35
        }
      },
      "source": [
        "#Nos ubicamos en la carpeta donde se subio el proyecto de Github\n",
        "cd /content/drive/My Drive/PUCP - Maestría/Técnicas avanzadas de Data Mining y Sistemas Inteligentes"
      ],
      "execution_count": 2,
      "outputs": [
        {
          "output_type": "stream",
          "text": [
            "/content/drive/My Drive/PUCP - Maestría/Técnicas avanzadas de Data Mining y Sistemas Inteligentes\n"
          ],
          "name": "stdout"
        }
      ]
    },
    {
      "cell_type": "code",
      "metadata": {
        "id": "nEbUx3wFZejp",
        "colab_type": "code",
        "outputId": "ac4f626c-bbce-4165-c084-c9734aab8556",
        "colab": {
          "base_uri": "https://localhost:8080/",
          "height": 90
        }
      },
      "source": [
        "#Verificamos la ruta del codigo\n",
        "!ls \"./proyecto_irvin/style_master\""
      ],
      "execution_count": 3,
      "outputs": [
        {
          "output_type": "stream",
          "text": [
            "checkpoint\t\t      generate.py      __pycache__    train.py\n",
            "dataset.py\t\t      LICENSE\t       README.md\n",
            "doc\t\t\t      model.py\t       sample\n",
            "generate_checkpoint_100mb.py  prepare_data.py  sample_matrix\n"
          ],
          "name": "stdout"
        }
      ]
    },
    {
      "cell_type": "code",
      "metadata": {
        "id": "9XeKhWi1dl5O",
        "colab_type": "code",
        "colab": {}
      },
      "source": [
        "#Se genera una matriz de imágenes en la carpeta \"sample_matrix\" usando un checkpoint del modelo en entrenamiento\n",
        "!python \"./proyecto_irvin/style_master/generate_checkpoint_100mb.py\" \"./proyecto_irvin/peruvian_mix/020000.model\" --size 64"
      ],
      "execution_count": 0,
      "outputs": []
    },
    {
      "cell_type": "code",
      "metadata": {
        "id": "P0BmQ4IqZjKL",
        "colab_type": "code",
        "colab": {}
      },
      "source": [
        "#Se genera una matriz de imágenes en la carpeta \"sample_matrix\" usando el modelo entrenado al 100%\n",
        "!python \"./proyecto_irvin/style_master/generate.py\" \"./proyecto_irvin/peruvian_model/pm.model\" --size 64"
      ],
      "execution_count": 0,
      "outputs": []
    }
  ]
}